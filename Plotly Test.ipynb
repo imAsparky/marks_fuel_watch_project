{
 "cells": [
  {
   "cell_type": "code",
   "execution_count": 1,
   "metadata": {},
   "outputs": [],
   "source": [
    "import fuel_watch_backend as fw\n",
    "import plotly.graph_objects as go\n",
    "import pandas as pd\n",
    "import csv\n",
    "import requests"
   ]
  },
  {
   "cell_type": "code",
   "execution_count": 39,
   "metadata": {},
   "outputs": [
    {
     "data": {
      "text/plain": [
       "['Dialect',\n",
       " 'DictReader',\n",
       " 'DictWriter',\n",
       " 'Error',\n",
       " 'QUOTE_ALL',\n",
       " 'QUOTE_MINIMAL',\n",
       " 'QUOTE_NONE',\n",
       " 'QUOTE_NONNUMERIC',\n",
       " 'Sniffer',\n",
       " 'StringIO',\n",
       " '_Dialect',\n",
       " '__all__',\n",
       " '__builtins__',\n",
       " '__cached__',\n",
       " '__doc__',\n",
       " '__file__',\n",
       " '__loader__',\n",
       " '__name__',\n",
       " '__package__',\n",
       " '__spec__',\n",
       " '__version__',\n",
       " 'excel',\n",
       " 'excel_tab',\n",
       " 'field_size_limit',\n",
       " 'get_dialect',\n",
       " 'list_dialects',\n",
       " 're',\n",
       " 'reader',\n",
       " 'register_dialect',\n",
       " 'unix_dialect',\n",
       " 'unregister_dialect',\n",
       " 'writer']"
      ]
     },
     "execution_count": 39,
     "metadata": {},
     "output_type": "execute_result"
    }
   ],
   "source": [
    "dir(csv)\n",
    "#csv[\"Dialect\"]"
   ]
  },
  {
   "cell_type": "markdown",
   "metadata": {},
   "source": [
    "#### Play with csv reader and data to see how it looks"
   ]
  },
  {
   "cell_type": "code",
   "execution_count": 35,
   "metadata": {},
   "outputs": [
    {
     "name": "stdout",
     "output_type": "stream",
     "text": [
      "Column names are PUBLISH_DATE, TRADING_NAME, BRAND_DESCRIPTION, PRODUCT_DESCRIPTION, PRODUCT_PRICE, ADDRESS, LOCATION, POSTCODE, AREA_DESCRIPTION, REGION_DESCRIPTION, \n",
      "\t On the 01/07/2020  53 Mile Roadhouse was branded  United.\n",
      "\t On the 01/07/2020  53 Mile Roadhouse was branded  United.\n",
      "\t On the 01/07/2020  53 Mile Roadhouse was branded  United.\n",
      "\t On the 01/07/2020  53 Mile Roadhouse was branded  United.\n",
      "Processed 5 lines.\n"
     ]
    }
   ],
   "source": [
    "with open(r'fuel_data/FuelWatchRetail-07-2020.csv') as csv_file:\n",
    "    csv_reader = csv.reader(csv_file, delimiter=',')\n",
    "    line_count = 0\n",
    "    for row in csv_reader:\n",
    "        if line_count == 0:\n",
    "            print(f'Column names are {\", \".join(row)}')\n",
    "            line_count += 1\n",
    "        else:\n",
    "            while line_count < 5:\n",
    "                print(f'\\t On the {row[0]}  {row[1]} was branded  {row[2]}.')\n",
    "                line_count += 1\n",
    "    print(f'Processed {line_count} lines.')"
   ]
  },
  {
   "cell_type": "markdown",
   "metadata": {},
   "source": [
    "#### Extract the locations for data file structure"
   ]
  },
  {
   "cell_type": "code",
   "execution_count": 31,
   "metadata": {},
   "outputs": [
    {
     "name": "stdout",
     "output_type": "stream",
     "text": [
      "['PUBLISH_DATE', 'TRADING_NAME', 'BRAND_DESCRIPTION', 'PRODUCT_DESCRIPTION', 'PRODUCT_PRICE', 'ADDRESS', 'LOCATION', 'POSTCODE', 'AREA_DESCRIPTION', 'REGION_DESCRIPTION', ''] \n",
      "\n",
      " [('Gascoyne', 'Carnarvon', 'CARNARVON'), ('Gascoyne', 'Exmouth', 'EXMOUTH'), ('Goldfields-Esperance', 'Boulder', 'BOULDER'), ('Goldfields-Esperance', 'Boulder', 'WEST KALGOORLIE'), ('Goldfields-Esperance', 'Coolgardie', 'COOLGARDIE'), ('Goldfields-Esperance', 'Esperance', 'ESPERANCE'), ('Goldfields-Esperance', 'Kalgoorlie', 'KALGOORLIE'), ('Goldfields-Esperance', 'Kalgoorlie', 'WEST KALGOORLIE'), ('Goldfields-Esperance', 'Kambalda', 'KAMBALDA EAST'), ('Goldfields-Esperance', 'Munglinup', 'MUNGLINUP'), ('Goldfields-Esperance', 'Norseman', 'NORSEMAN'), ('Goldfields-Esperance', 'Ravensthorpe', 'RAVENSTHORPE'), ('Great Southern', 'Albany', 'ALBANY'), ('Great Southern', 'Albany', 'MANYPEAKS'), ('Great Southern', 'Albany', 'WELLSTEAD'), ('Great Southern', 'Albany', 'YOUNGS SIDING'), ('Great Southern', 'Denmark', 'DENMARK'), ('Great Southern', 'Kojonup', 'KOJONUP'), ('Great Southern', 'Mt Barker', 'MOUNT BARKER'), ('Kimberley', 'Broome', 'BROOME'), ('Kimberley', 'Derby', 'DERBY'), ('Kimberley', 'Fitzroy Cross', 'FITZROY CROSSING'), ('Kimberley', 'Kununurra', 'KUNUNURRA'), ('Metro', 'East/Hills', 'BASKERVILLE'), ('Metro', 'East/Hills', 'BEDFORDALE'), ('Metro', 'East/Hills', 'BELLEVUE'), ('Metro', 'East/Hills', 'BULLSBROOK'), ('Metro', 'East/Hills', 'CHIDLOW'), ('Metro', 'East/Hills', 'FORRESTFIELD'), ('Metro', 'East/Hills', 'GIDGEGANNUP'), ('Metro', 'East/Hills', 'GLEN FORREST'), ('Metro', 'East/Hills', 'HERNE HILL'), ('Metro', 'East/Hills', 'HIGH WYCOMBE'), ('Metro', 'East/Hills', 'KALAMUNDA'), ('Metro', 'East/Hills', 'KARRAGULLEN'), ('Metro', 'East/Hills', 'LESMURDIE'), ('Metro', 'East/Hills', 'MAIDA VALE'), ('Metro', 'East/Hills', 'MIDDLE SWAN'), ('Metro', 'East/Hills', 'MIDVALE'), ('Metro', 'East/Hills', 'MT HELENA'), ('Metro', 'East/Hills', 'MUNDARING'), ('Metro', 'East/Hills', 'ROLEYSTONE'), ('Metro', 'East/Hills', 'SAWYERS VALLEY'), ('Metro', 'East/Hills', 'STRATTON'), ('Metro', 'East/Hills', 'SWAN VIEW'), ('Metro', 'East/Hills', 'THE LAKES'), ('Metro', 'East/Hills', 'UPPER SWAN'), ('Metro', 'East/Hills', 'WATTLE GROVE'), ('Metro', 'North of River', 'ALEXANDER HEIGHTS'), ('Metro', 'North of River', 'ALKIMOS'), ('Metro', 'North of River', 'ASHBY'), ('Metro', 'North of River', 'AVELEY'), ('Metro', 'North of River', 'BALCATTA'), ('Metro', 'North of River', 'BALGA'), ('Metro', 'North of River', 'BALLAJURA'), ('Metro', 'North of River', 'BANKSIA GROVE'), ('Metro', 'North of River', 'BASSENDEAN'), ('Metro', 'North of River', 'BAYSWATER'), ('Metro', 'North of River', 'BEECHBORO'), ('Metro', 'North of River', 'BELDON'), ('Metro', 'North of River', 'BUTLER'), ('Metro', 'North of River', 'CARINE'), ('Metro', 'North of River', 'CAVERSHAM'), ('Metro', 'North of River', 'CLAREMONT'), ('Metro', 'North of River', 'CLARKSON'), ('Metro', 'North of River', 'CURRAMBINE'), ('Metro', 'North of River', 'DAYTON'), ('Metro', 'North of River', 'DIANELLA'), ('Metro', 'North of River', 'DOUBLEVIEW'), ('Metro', 'North of River', 'DUNCRAIG'), ('Metro', 'North of River', 'EAST PERTH'), ('Metro', 'North of River', 'EDGEWATER'), ('Metro', 'North of River', 'ELLENBROOK'), ('Metro', 'North of River', 'EMBLETON'), ('Metro', 'North of River', 'FLOREAT'), ('Metro', 'North of River', 'GIRRAWHEEN'), ('Metro', 'North of River', 'GLENDALOUGH'), ('Metro', 'North of River', 'GNANGARA'), ('Metro', 'North of River', 'GREENWOOD'), ('Metro', 'North of River', 'GUILDFORD'), ('Metro', 'North of River', 'GWELUP'), ('Metro', 'North of River', 'HENLEY BROOK'), ('Metro', 'North of River', 'HILLARYS'), ('Metro', 'North of River', 'INNALOO'), ('Metro', 'North of River', 'JINDALEE'), ('Metro', 'North of River', 'JOLIMONT'), ('Metro', 'North of River', 'JOONDALUP'), ('Metro', 'North of River', 'KARRINYUP'), ('Metro', 'North of River', 'KIARA'), ('Metro', 'North of River', 'KINGSLEY'), ('Metro', 'North of River', 'KOONDOOLA'), ('Metro', 'North of River', 'LANDSDALE'), ('Metro', 'North of River', 'LEEDERVILLE'), ('Metro', 'North of River', 'LEXIA'), ('Metro', 'North of River', 'MADELEY'), ('Metro', 'North of River', 'MALAGA'), ('Metro', 'North of River', 'MERRIWA'), ('Metro', 'North of River', 'MINDARIE'), ('Metro', 'North of River', 'MIRRABOOKA'), ('Metro', 'North of River', 'MORLEY'), ('Metro', 'North of River', 'MOSMAN PARK'), ('Metro', 'North of River', 'MT LAWLEY'), ('Metro', 'North of River', 'MULLALOO'), ('Metro', 'North of River', 'NEDLANDS'), ('Metro', 'North of River', 'NEERABUP'), ('Metro', 'North of River', 'NOLLAMARA'), ('Metro', 'North of River', 'NORANDA'), ('Metro', 'North of River', 'NORTH PERTH'), ('Metro', 'North of River', 'NORTHBRIDGE'), ('Metro', 'North of River', 'NOWERGUP'), ('Metro', 'North of River', 'OCEAN REEF'), ('Metro', 'North of River', 'OSBORNE PARK'), ('Metro', 'North of River', 'PADBURY'), ('Metro', 'North of River', 'PEARSALL'), ('Metro', 'North of River', 'PERTH'), ('Metro', 'North of River', 'QUINNS ROCKS'), ('Metro', 'North of River', 'RIDGEWOOD'), ('Metro', 'North of River', 'SCARBOROUGH'), ('Metro', 'North of River', 'SORRENTO'), ('Metro', 'North of River', 'SUBIACO'), ('Metro', 'North of River', 'SWANBOURNE'), ('Metro', 'North of River', 'TUART HILL'), ('Metro', 'North of River', 'WANGARA'), ('Metro', 'North of River', 'WANNEROO'), ('Metro', 'North of River', 'WARWICK'), ('Metro', 'North of River', 'WEMBLEY'), ('Metro', 'North of River', 'WEST PERTH'), ('Metro', 'North of River', 'WEST SWAN'), ('Metro', 'North of River', 'WESTMINSTER'), ('Metro', 'North of River', 'WOODBRIDGE'), ('Metro', 'North of River', 'WOODVALE'), ('Metro', 'North of River', 'YANCHEP'), ('Metro', 'North of River', 'YOKINE'), ('Metro', 'South of River', 'ALFRED COVE'), ('Metro', 'South of River', 'APPLECROSS'), ('Metro', 'South of River', 'ARMADALE'), ('Metro', 'South of River', 'ASCOT'), ('Metro', 'South of River', 'ATTADALE'), ('Metro', 'South of River', 'BALDIVIS'), ('Metro', 'South of River', 'BECKENHAM'), ('Metro', 'South of River', 'BEELIAR'), ('Metro', 'South of River', 'BELMONT'), ('Metro', 'South of River', 'BENTLEY'), ('Metro', 'South of River', 'BERTRAM'), ('Metro', 'South of River', 'BIBRA LAKE'), ('Metro', 'South of River', 'BICTON'), ('Metro', 'South of River', 'BRENTWOOD'), ('Metro', 'South of River', 'BULL CREEK'), ('Metro', 'South of River', 'BURSWOOD'), ('Metro', 'South of River', 'BYFORD'), ('Metro', 'South of River', 'CANNING VALE'), ('Metro', 'South of River', 'CANNINGTON'), ('Metro', 'South of River', 'CARLISLE'), ('Metro', 'South of River', 'CLOVERDALE'), ('Metro', 'South of River', 'COCKBURN CENTRAL'), ('Metro', 'South of River', 'COMO'), ('Metro', 'South of River', 'EAST FREMANTLE'), ('Metro', 'South of River', 'EAST ROCKINGHAM'), ('Metro', 'South of River', 'EAST VICTORIA PARK'), ('Metro', 'South of River', 'FORRESTDALE'), ('Metro', 'South of River', 'FREMANTLE'), ('Metro', 'South of River', 'GOSNELLS'), ('Metro', 'South of River', 'HAMILTON HILL'), ('Metro', 'South of River', 'HARRISDALE'), ('Metro', 'South of River', 'HENDERSON'), ('Metro', 'South of River', 'HUNTINGDALE'), ('Metro', 'South of River', 'JANDAKOT'), ('Metro', 'South of River', 'JARRAHDALE'), ('Metro', 'South of River', 'KARAWARA'), ('Metro', 'South of River', 'KARDINYA'), ('Metro', 'South of River', 'KARNUP'), ('Metro', 'South of River', 'KELMSCOTT'), ('Metro', 'South of River', 'KEWDALE'), ('Metro', 'South of River', 'KWINANA BEACH'), ('Metro', 'South of River', 'KWINANA TOWN CENTRE'), ('Metro', 'South of River', 'LANGFORD'), ('Metro', 'South of River', 'LEDA'), ('Metro', 'South of River', 'LEEMING'), ('Metro', 'South of River', 'LYNWOOD'), ('Metro', 'South of River', 'MADDINGTON'), ('Metro', 'South of River', 'MANNING'), ('Metro', 'South of River', 'MT PLEASANT'), ('Metro', 'South of River', 'MUNDIJONG'), ('Metro', 'South of River', 'MUNSTER'), ('Metro', 'South of River', 'MURDOCH'), ('Metro', 'South of River', 'MYAREE'), ('Metro', 'South of River', 'NAVAL BASE'), ('Metro', 'South of River', 'NORTH FREMANTLE'), ('Metro', 'South of River', \"O'CONNOR\"), ('Metro', 'South of River', 'PALMYRA'), ('Metro', 'South of River', 'PERTH AIRPORT'), ('Metro', 'South of River', 'PORT KENNEDY'), ('Metro', 'South of River', 'QUEENS PARK'), ('Metro', 'South of River', 'REDCLIFFE'), ('Metro', 'South of River', 'RIVERTON'), ('Metro', 'South of River', 'RIVERVALE'), ('Metro', 'South of River', 'ROCKINGHAM'), ('Metro', 'South of River', 'SAFETY BAY'), ('Metro', 'South of River', 'SECRET HARBOUR'), ('Metro', 'South of River', 'SERPENTINE'), ('Metro', 'South of River', 'SEVILLE GROVE'), ('Metro', 'South of River', 'SINGLETON'), ('Metro', 'South of River', 'SOUTH FREMANTLE'), ('Metro', 'South of River', 'SOUTH LAKE'), ('Metro', 'South of River', 'SOUTH PERTH'), ('Metro', 'South of River', 'SOUTHERN RIVER'), ('Metro', 'South of River', 'SPEARWOOD'), ('Metro', 'South of River', 'SUCCESS'), ('Metro', 'South of River', 'THORNLIE'), ('Metro', 'South of River', 'VICTORIA PARK'), ('Metro', 'South of River', 'WAIKIKI'), ('Metro', 'South of River', 'WARNBRO'), ('Metro', 'South of River', 'WATTLE GROVE'), ('Metro', 'South of River', 'WELSHPOOL'), ('Metro', 'South of River', 'WILLETTON'), ('Metro', 'South of River', 'YANGEBUP'), ('Mid-West', 'Dongara', 'DONGARA'), ('Mid-West', 'Geraldton', 'GERALDTON'), ('Mid-West', 'Geraldton', 'MULLEWA'), ('Mid-West', 'Greenough', 'GLENFIELD'), ('Mid-West', 'Greenough', 'GREENOUGH'), ('Mid-West', 'Greenough', 'MOONYOONOOKA'), ('Mid-West', 'Greenough', 'WALKAWAY'), ('Mid-West', 'Meekatharra', 'MEEKATHARRA'), ('Peel', 'Mandurah', 'DAWESVILLE'), ('Peel', 'Mandurah', 'ERSKINE'), ('Peel', 'Mandurah', 'FALCON'), ('Peel', 'Mandurah', 'GREENFIELDS'), ('Peel', 'Mandurah', 'HALLS HEAD'), ('Peel', 'Mandurah', 'KARNUP'), ('Peel', 'Mandurah', 'LAKELANDS'), ('Peel', 'Mandurah', 'MANDURAH'), ('Peel', 'Mandurah', 'MEADOW SPRINGS'), ('Peel', 'Murray', 'BARRAGUP'), ('Peel', 'Murray', 'COOLUP'), ('Peel', 'Murray', 'DWELLINGUP'), ('Peel', 'Murray', 'NORTH DANDALUP'), ('Peel', 'Murray', 'NORTH YUNDERUP'), ('Peel', 'Murray', 'PINJARRA'), ('Peel', 'Murray', 'RAVENSWOOD'), ('Peel', 'Murray', 'SOUTH YUNDERUP'), ('Peel', 'Murray', 'WEST PINJARRA'), ('Peel', 'Waroona', 'PRESTON BEACH'), ('Peel', 'Waroona', 'WAROONA'), ('Pilbara', 'Dampier', 'DAMPIER'), ('Pilbara', 'Karratha', 'KARRATHA'), ('Pilbara', 'Newman', 'NEWMAN'), ('Pilbara', 'Port Hedland', 'PORT HEDLAND'), ('Pilbara', 'Port Hedland', 'SOUTH HEDLAND'), ('Pilbara', 'Port Hedland', 'WEDGEFIELD'), ('South-West', 'Augusta-M River', 'AUGUSTA'), ('South-West', 'Augusta-M River', 'COWARAMUP'), ('South-West', 'Augusta-M River', 'GRACETOWN'), ('South-West', 'Augusta-M River', 'KARRIDALE'), ('South-West', 'Augusta-M River', 'MARGARET RIVER'), ('South-West', 'Augusta-M River', 'ROSA BROOK'), ('South-West', 'Augusta-M River', 'WITCHCLIFFE'), ('South-West', 'B-Town/G-Bushes', 'BRIDGETOWN'), ('South-West', 'B-Town/G-Bushes', 'GREENBUSHES'), ('South-West', 'Bunbury', 'BUNBURY'), ('South-West', 'Bunbury', 'GLEN IRIS'), ('South-West', 'Bunbury', 'PICTON'), ('South-West', 'Busselton-Shire', 'BROADWATER'), ('South-West', 'Busselton-Shire', 'BUSSELTON'), ('South-West', 'Busselton-Shire', 'CARBUNUP RIVER'), ('South-West', 'Busselton-Shire', 'DUNSBOROUGH'), ('South-West', 'Busselton-Shire', 'SIESTA PARK'), ('South-West', 'Busselton-Shire', 'VASSE'), ('South-West', 'Busselton-Shire', 'WEST BUSSELTON'), ('South-West', 'Capel', 'BOYANUP'), ('South-West', 'Capel', 'CAPEL'), ('South-West', 'Capel', 'GELORUP'), ('South-West', 'Capel', 'STRATHAM'), ('South-West', 'Collie', 'COLLIE'), ('South-West', 'D-Brook/Bal-Up', 'BALINGUP'), ('South-West', 'D-Brook/Bal-Up', 'DONNYBROOK'), ('South-West', 'Dardanup', 'DARDANUP'), ('South-West', 'Dardanup', 'EATON'), ('South-West', 'Dardanup', 'PICTON EAST'), ('South-West', 'Dardanup', 'WATERLOO'), ('South-West', 'Harvey', 'AUSTRALIND'), ('South-West', 'Harvey', 'BINNINGUP'), ('South-West', 'Harvey', 'BRUNSWICK'), ('South-West', 'Harvey', 'HARVEY'), ('South-West', 'Harvey', 'MYALUP'), ('South-West', 'Manjimup', 'MANJIMUP'), ('South-West', 'Manjimup', 'NORTHCLIFFE'), ('South-West', 'Manjimup', 'PEMBERTON'), ('South-West', 'Manjimup', 'WALPOLE'), ('Wheatbelt', 'Cataby', 'CATABY'), ('Wheatbelt', 'Cunderdin', 'CUNDERDIN'), ('Wheatbelt', 'Dalwallinu', 'DALWALLINU'), ('Wheatbelt', 'Jurien', 'JURIEN BAY'), ('Wheatbelt', 'Kellerberrin', 'KELLERBERRIN'), ('Wheatbelt', 'Meckering', 'MECKERING'), ('Wheatbelt', 'Moora', 'MOORA'), ('Wheatbelt', 'Narrogin', 'NARROGIN'), ('Wheatbelt', 'North Bannister', 'NORTH BANNISTER'), ('Wheatbelt', 'Northam-Shire', 'BAKERS HILL'), ('Wheatbelt', 'Northam-Shire', 'MALABINE'), ('Wheatbelt', 'Northam-Shire', 'NORTHAM'), ('Wheatbelt', 'Northam-Shire', 'WUNDOWIE'), ('Wheatbelt', 'Regans Ford', 'REGANS FORD'), ('Wheatbelt', 'Tammin', 'TAMMIN'), ('Wheatbelt', 'Williams', 'WILLIAMS'), ('Wheatbelt', 'Wubin', 'WUBIN'), ('Wheatbelt', 'York', 'YORK')]\n"
     ]
    }
   ],
   "source": [
    "loc = []\n",
    "with open(r'fuel_data/FuelWatchRetail-07-2020.csv') as csv_file:\n",
    "    csv_reader = csv.reader(csv_file, delimiter=',')\n",
    "    line_count = 0\n",
    "    for row in csv_reader:\n",
    "        if line_count == 0:\n",
    "            columns = row\n",
    "            line_count +=1\n",
    "        else:        \n",
    "            loc.append((row[-2], row[-3], row[-5]))\n",
    "print(columns, '\\n\\n', sorted(set(loc)))"
   ]
  },
  {
   "cell_type": "markdown",
   "metadata": {},
   "source": [
    "#### kwargs for getting the fuel watch data, used to build the query string"
   ]
  },
  {
   "cell_type": "code",
   "execution_count": 15,
   "metadata": {},
   "outputs": [],
   "source": [
    "URL = \"https://www.fuelwatch.wa.gov.au/fuelwatch/fuelWatchRSS?\"\n",
    "kwargs = {\"Region\": '',\n",
    "             \"Suburb\": 'Alexander Heights',\n",
    "             \"Product\": '1',\n",
    "             \"Day\": 'today',\n",
    "             \"Surrounding\": 'yes',\n",
    "             \"Brand\": '1',\n",
    "             }"
   ]
  },
  {
   "cell_type": "code",
   "execution_count": 16,
   "metadata": {},
   "outputs": [],
   "source": [
    "r = requests.get(URL, params=kwargs)"
   ]
  },
  {
   "cell_type": "code",
   "execution_count": 17,
   "metadata": {},
   "outputs": [
    {
     "name": "stdout",
     "output_type": "stream",
     "text": [
      "https://www.fuelwatch.wa.gov.au/fuelwatch/fuelWatchRSS?Region=&Suburb=Alexander+Heights&Product=1&Day=today&Surrounding=yes&Brand=1\n"
     ]
    }
   ],
   "source": [
    "print(r.url)"
   ]
  },
  {
   "cell_type": "code",
   "execution_count": 102,
   "metadata": {},
   "outputs": [
    {
     "data": {
      "text/plain": [
       "33.995000000000005"
      ]
     },
     "execution_count": 102,
     "metadata": {},
     "output_type": "execute_result"
    }
   ],
   "source": [
    "# int('32', '45', '89')\n",
    "'33'.isnumeric()\n",
    "import statistics\n",
    "statistics.mean([33.8844,34.9955,35.7766])\n",
    "# statistics.mean(int(x) if x.isnumneric for x in ['33', '34'])\n",
    "statistics.mean([ float(x) for x in ['33', '34.99']])\n"
   ]
  },
  {
   "cell_type": "code",
   "execution_count": null,
   "metadata": {},
   "outputs": [],
   "source": [
    "data = fw.get_fuel_data(**kwargs)"
   ]
  },
  {
   "cell_type": "markdown",
   "metadata": {},
   "source": [
    "#### Play with Plotly to create a simple bar graph"
   ]
  },
  {
   "cell_type": "code",
   "execution_count": null,
   "metadata": {},
   "outputs": [],
   "source": [
    "x = []\n",
    "y = []\n",
    "\n",
    "for d in data:\n",
    "    x.append(d['trading-name'])\n",
    "    y.append(d['price'])\n",
    "\n",
    "fig = go.Figure(data=go.Bar(y=y, x=x))\n",
    "fig.write_html('fuel graph.html', auto_open=True)  \n"
   ]
  },
  {
   "cell_type": "markdown",
   "metadata": {},
   "source": [
    "#### Look at the Fuel Watch historical data"
   ]
  },
  {
   "cell_type": "code",
   "execution_count": null,
   "metadata": {},
   "outputs": [],
   "source": [
    "df = pd.read_csv('fuel_data/FuelWatchRetail-07-2020.csv')\n",
    "df.head(20)"
   ]
  }
 ],
 "metadata": {
  "kernelspec": {
   "display_name": "Python 3.8.2 64-bit ('venv': venv)",
   "language": "python",
   "name": "python38264bitvenvvenv806e76b1990c405b854d91fedc40db86"
  },
  "language_info": {
   "codemirror_mode": {
    "name": "ipython",
    "version": 3
   },
   "file_extension": ".py",
   "mimetype": "text/x-python",
   "name": "python",
   "nbconvert_exporter": "python",
   "pygments_lexer": "ipython3",
   "version": "3.8.2"
  }
 },
 "nbformat": 4,
 "nbformat_minor": 4
}
